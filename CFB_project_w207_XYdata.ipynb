{
 "cells": [
  {
   "cell_type": "code",
   "execution_count": 107,
   "metadata": {},
   "outputs": [],
   "source": [
    "import pandas as pd\n",
    "import time\n",
    "import numpy as np\n",
    "import matplotlib.pyplot as plt\n",
    "from matplotlib.ticker import MultipleLocator\n",
    "from sklearn.pipeline import Pipeline\n",
    "from sklearn.datasets import fetch_openml\n",
    "from sklearn.neighbors import KNeighborsClassifier\n",
    "from sklearn.metrics import confusion_matrix\n",
    "from sklearn.linear_model import LinearRegression\n",
    "from sklearn.linear_model import LogisticRegression\n",
    "from sklearn.naive_bayes import BernoulliNB\n",
    "from sklearn.naive_bayes import MultinomialNB\n",
    "from sklearn.naive_bayes import GaussianNB\n",
    "from sklearn.model_selection import GridSearchCV\n",
    "from sklearn.metrics import classification_report\n",
    "from sklearn.svm import SVC\n",
    "from sklearn.preprocessing import MinMaxScaler\n",
    "from sklearn.decomposition import PCA\n",
    "\n"
   ]
  },
  {
   "cell_type": "code",
   "execution_count": 93,
   "metadata": {},
   "outputs": [],
   "source": [
    "df = pd.read_csv(\"gamesXY2007-2019.csv\")\n",
    "\n",
    "train_labels = df[df.season < 2015][\"home_win\"]\n",
    "test_labels = df[df.season > 2014][\"home_win\"]\n",
    "\n",
    "df_modeling = df[['h_avg_score_spread', 'h_n_games', 'h_avg_wins', 'h_avg_home_games',\n",
    "       'h_avg_home_wins', 'h_avg_first_downs', 'h_avg_o_first_downs',\n",
    "       'h_avg_third_down_complete', 'h_avg_o_third_down_complete',\n",
    "       'h_avg_third_down_attempts', 'h_avg_o_third_down_attempts',\n",
    "       'h_avg_total_yards', 'h_avg_o_total_yards', 'h_avg_passing_yards',\n",
    "       'h_avg_o_passing_yards', 'h_avg_passing_complete',\n",
    "       'h_avg_o_passing_complete', 'h_avg_passing_attempts',\n",
    "       'h_avg_o_passing_attempts', 'h_avg_rushing_yards',\n",
    "       'h_avg_o_rushing_yards', 'h_avg_rushing_attempts',\n",
    "       'h_avg_o_rushing_attempts', 'h_avg_penalty_yards',\n",
    "       'h_avg_o_penalty_yards', 'h_avg_turnovers', 'h_avg_o_turnovers',\n",
    "       'h_avg_time_possession', 'h_avg_o_time_possession',\n",
    "       'h_StrengthOfSchedule', 'v_avg_score_spread', 'v_n_games', 'v_avg_wins',\n",
    "       'v_avg_home_games', 'v_avg_home_wins', 'v_avg_first_downs',\n",
    "       'v_avg_o_first_downs', 'v_avg_third_down_complete',\n",
    "       'v_avg_o_third_down_complete', 'v_avg_third_down_attempts',\n",
    "       'v_avg_o_third_down_attempts', 'v_avg_total_yards',\n",
    "       'v_avg_o_total_yards', 'v_avg_passing_yards', 'v_avg_o_passing_yards',\n",
    "       'v_avg_passing_complete', 'v_avg_o_passing_complete',\n",
    "       'v_avg_passing_attempts', 'v_avg_o_passing_attempts',\n",
    "       'v_avg_rushing_yards', 'v_avg_o_rushing_yards',\n",
    "       'v_avg_rushing_attempts', 'v_avg_o_rushing_attempts',\n",
    "       'v_avg_penalty_yards', 'v_avg_o_penalty_yards', 'v_avg_turnovers',\n",
    "       'v_avg_o_turnovers', 'v_avg_time_possession', 'v_avg_o_time_possession',\n",
    "       'v_StrengthOfSchedule', 'game_id',\n",
    "       'home_id', 'visitor_id', 'season', 'neutralSite']]\n",
    "\n",
    "train_data = df_modeling[df_modeling.season < 2015]\n",
    "test_data = df_modeling[df_modeling.season > 2014]\n",
    "\n",
    "\n"
   ]
  },
  {
   "cell_type": "code",
   "execution_count": 139,
   "metadata": {},
   "outputs": [
    {
     "data": {
      "text/plain": [
       "Index(['h_avg_score_spread', 'h_n_games', 'h_avg_wins', 'h_avg_home_games',\n",
       "       'h_avg_home_wins', 'h_avg_first_downs', 'h_avg_o_first_downs',\n",
       "       'h_avg_third_down_complete', 'h_avg_o_third_down_complete',\n",
       "       'h_avg_third_down_attempts', 'h_avg_o_third_down_attempts',\n",
       "       'h_avg_total_yards', 'h_avg_o_total_yards', 'h_avg_passing_yards',\n",
       "       'h_avg_o_passing_yards', 'h_avg_passing_complete',\n",
       "       'h_avg_o_passing_complete', 'h_avg_passing_attempts',\n",
       "       'h_avg_o_passing_attempts', 'h_avg_rushing_yards',\n",
       "       'h_avg_o_rushing_yards', 'h_avg_rushing_attempts',\n",
       "       'h_avg_o_rushing_attempts', 'h_avg_penalty_yards',\n",
       "       'h_avg_o_penalty_yards', 'h_avg_turnovers', 'h_avg_o_turnovers',\n",
       "       'h_avg_time_possession', 'h_avg_o_time_possession',\n",
       "       'h_StrengthOfSchedule', 'v_avg_score_spread', 'v_n_games', 'v_avg_wins',\n",
       "       'v_avg_home_games', 'v_avg_home_wins', 'v_avg_first_downs',\n",
       "       'v_avg_o_first_downs', 'v_avg_third_down_complete',\n",
       "       'v_avg_o_third_down_complete', 'v_avg_third_down_attempts',\n",
       "       'v_avg_o_third_down_attempts', 'v_avg_total_yards',\n",
       "       'v_avg_o_total_yards', 'v_avg_passing_yards', 'v_avg_o_passing_yards',\n",
       "       'v_avg_passing_complete', 'v_avg_o_passing_complete',\n",
       "       'v_avg_passing_attempts', 'v_avg_o_passing_attempts',\n",
       "       'v_avg_rushing_yards', 'v_avg_o_rushing_yards',\n",
       "       'v_avg_rushing_attempts', 'v_avg_o_rushing_attempts',\n",
       "       'v_avg_penalty_yards', 'v_avg_o_penalty_yards', 'v_avg_turnovers',\n",
       "       'v_avg_o_turnovers', 'v_avg_time_possession', 'v_avg_o_time_possession',\n",
       "       'v_StrengthOfSchedule', 'game_id', 'home_id', 'visitor_id', 'season',\n",
       "       'neutralSite'],\n",
       "      dtype='object')"
      ]
     },
     "execution_count": 139,
     "metadata": {},
     "output_type": "execute_result"
    }
   ],
   "source": [
    "train_data.columns"
   ]
  },
  {
   "cell_type": "code",
   "execution_count": 94,
   "metadata": {},
   "outputs": [],
   "source": [
    "scaler = MinMaxScaler()\n",
    "\n",
    "scaled_train_data = scaler.fit_transform(train_data)\n",
    "scaled_test_data = scaler.fit_transform(test_data)"
   ]
  },
  {
   "cell_type": "markdown",
   "metadata": {},
   "source": [
    "### Naive Bayes model works with 66.6% accuracy"
   ]
  },
  {
   "cell_type": "code",
   "execution_count": 95,
   "metadata": {},
   "outputs": [
    {
     "name": "stdout",
     "output_type": "stream",
     "text": [
      "Unscaled\n",
      "              precision    recall  f1-score   support\n",
      "\n",
      "           0     0.6653    0.4448    0.5331      1077\n",
      "           1     0.6661    0.8319    0.7398      1434\n",
      "\n",
      "    accuracy                         0.6659      2511\n",
      "   macro avg     0.6657    0.6383    0.6365      2511\n",
      "weighted avg     0.6658    0.6659    0.6512      2511\n",
      "\n",
      "Scaled\n",
      "              precision    recall  f1-score   support\n",
      "\n",
      "           0     0.6205    0.2080    0.3115      1077\n",
      "           1     0.6033    0.9045    0.7238      1434\n",
      "\n",
      "    accuracy                         0.6057      2511\n",
      "   macro avg     0.6119    0.5562    0.5177      2511\n",
      "weighted avg     0.6107    0.6057    0.5470      2511\n",
      "\n"
     ]
    }
   ],
   "source": [
    "nb = BernoulliNB()\n",
    "nb.fit(train_data, train_labels)\n",
    "accuracy_nb = np.mean(nb.predict(test_data) == test_labels)\n",
    "\n",
    "print(\"Unscaled\")\n",
    "print(classification_report(test_labels,nb.predict(test_data), digits = 4))\n",
    "\n",
    "nb = BernoulliNB()\n",
    "nb.fit(scaled_train_data, train_labels)\n",
    "accuracy_nb = np.mean(nb.predict(scaled_test_data) == test_labels)\n",
    "\n",
    "print(\"Scaled\")\n",
    "print(classification_report(test_labels,nb.predict(scaled_test_data), digits = 4))"
   ]
  },
  {
   "cell_type": "code",
   "execution_count": 96,
   "metadata": {},
   "outputs": [
    {
     "name": "stdout",
     "output_type": "stream",
     "text": [
      "0.01 0.6658701712465154\n",
      "0.1 0.6658701712465154\n",
      "1 0.6658701712465154\n",
      "5 0.6658701712465154\n",
      "10 0.666268418956591\n",
      "50 0.6690561529271206\n",
      "100 0.6133014735165273\n"
     ]
    }
   ],
   "source": [
    "for a in [0.01, 0.1, 1, 5, 10, 50, 100]:\n",
    "    nb = BernoulliNB(alpha = a)\n",
    "    nb.fit(train_data, train_labels)\n",
    "    accuracy_nb = np.mean(nb.predict(test_data) == test_labels)\n",
    "    print(a, accuracy_nb)\n",
    "# Best alpha seems to be 50"
   ]
  },
  {
   "cell_type": "markdown",
   "metadata": {},
   "source": [
    "### Best Naive Bayes so far"
   ]
  },
  {
   "cell_type": "code",
   "execution_count": 97,
   "metadata": {},
   "outputs": [
    {
     "name": "stdout",
     "output_type": "stream",
     "text": [
      "0.6690561529271206\n"
     ]
    }
   ],
   "source": [
    "best_nb = BernoulliNB(alpha = 50, fit_prior = True)\n",
    "best_nb.fit(train_data, train_labels)\n",
    "accuracy_best_nb = np.mean(best_nb.predict(test_data) == test_labels)\n",
    "print(accuracy_best_nb)"
   ]
  },
  {
   "cell_type": "markdown",
   "metadata": {},
   "source": [
    "## SVM Models"
   ]
  },
  {
   "cell_type": "code",
   "execution_count": 98,
   "metadata": {},
   "outputs": [
    {
     "ename": "SyntaxError",
     "evalue": "invalid syntax (<ipython-input-98-4e80797185f4>, line 25)",
     "output_type": "error",
     "traceback": [
      "\u001b[0;36m  File \u001b[0;32m\"<ipython-input-98-4e80797185f4>\"\u001b[0;36m, line \u001b[0;32m25\u001b[0m\n\u001b[0;31m    for c in [0.001, 0.01, 0.1, 1 10, 100]:\u001b[0m\n\u001b[0m                                   ^\u001b[0m\n\u001b[0;31mSyntaxError\u001b[0m\u001b[0;31m:\u001b[0m invalid syntax\n"
     ]
    }
   ],
   "source": [
    "max_acc = 0\n",
    "optimal_c = 0\n",
    "all_accuracies = []\n",
    "\n",
    "for c in [0.001, 0.01, 0.1, 1, 10, 100]:\n",
    "    svm = SVC(C = c, gamma = \"auto\")\n",
    "    svm.fit(train_data, train_labels)\n",
    "    accuracy_svm = np.mean(svm.predict(test_data) == test_labels)\n",
    "    all_accuracies.append(accuracy_svm)\n",
    "\n",
    "    #print(classification_report(test_labels,svm.predict(test_data), digits = 4))\n",
    "    if accuracy_svm > max_acc:\n",
    "        max_acc = accuracy_svm\n",
    "        optimal_c = c\n",
    "        \n",
    "print(\"Unscaled\")\n",
    "print(\"Optimal C Value:\", optimal_c)\n",
    "print(\"Accuracy: \", max_acc)\n",
    "print(all_accuracies)\n",
    "\n",
    "max_acc = 0\n",
    "optimal_c = 0\n",
    "all_accuracies = []\n",
    "\n",
    "for c in [0.001, 0.01, 0.1, 1 10, 100]:\n",
    "    svm = SVC(C = c, gamma = \"auto\")\n",
    "    svm.fit(scaled_train_data, train_labels)\n",
    "    accuracy_svm = np.mean(svm.predict(scaled_test_data) == test_labels)\n",
    "    all_accuracies.append(accuracy_svm)\n",
    "\n",
    "    #print(classification_report(test_labels,svm.predict(test_data), digits = 4))\n",
    "    if accuracy_svm > max_acc:\n",
    "        max_acc = accuracy_svm\n",
    "        optimal_c = c\n",
    "        \n",
    "print(\"\\nScaled\")\n",
    "print(\"Optimal C Value:\", optimal_c)\n",
    "print(\"Accuracy: \", max_acc)\n",
    "print(all_accuracies)"
   ]
  },
  {
   "cell_type": "code",
   "execution_count": 99,
   "metadata": {},
   "outputs": [
    {
     "name": "stdout",
     "output_type": "stream",
     "text": [
      "\n",
      "Scaled\n",
      "Optimal C Value: 1\n",
      "Accuracy:  0.6977299880525687\n",
      "[0.5710872162485066, 0.5890083632019116, 0.694942254082039, 0.6977299880525687, 0.6730386300278773, 0.6559139784946236]\n"
     ]
    }
   ],
   "source": [
    "#unscaled is just worse across the board for SVM\n",
    "\n",
    "'''max_acc = 0\n",
    "optimal_c = 0\n",
    "all_accuracies = []\n",
    "for c in [0.001, 0.01, 0.1, 1, 10, 100]:\n",
    "    svm = SVC(C = c, gamma = \"scale\")\n",
    "    svm.fit(train_data, train_labels)\n",
    "    accuracy_svm = np.mean(svm.predict(test_data) == test_labels)\n",
    "    all_accuracies.append(accuracy_svm)\n",
    "\n",
    "    #print(classification_report(test_labels,svm.predict(test_data), digits = 4))\n",
    "    if accuracy_svm > max_acc:\n",
    "        max_acc = accuracy_svm\n",
    "        optimal_c = c\n",
    "    \n",
    "print(\"Unscaled\")\n",
    "print(\"Optimal C Value:\", optimal_c)\n",
    "print(\"Accuracy: \", max_acc)\n",
    "print(all_accuracies)'''\n",
    "\n",
    "max_acc = 0\n",
    "optimal_c = 0\n",
    "all_accuracies = []\n",
    "\n",
    "for c in [0.001, 0.01, 0.1, 1, 10, 100]:\n",
    "    svm = SVC(C = c, gamma = \"scale\")\n",
    "    svm.fit(scaled_train_data, train_labels)\n",
    "    accuracy_svm = np.mean(svm.predict(scaled_test_data) == test_labels)\n",
    "    all_accuracies.append(accuracy_svm)\n",
    "\n",
    "    #print(classification_report(test_labels,svm.predict(test_data), digits = 4))\n",
    "    if accuracy_svm > max_acc:\n",
    "        max_acc = accuracy_svm\n",
    "        optimal_c = c\n",
    "        \n",
    "print(\"\\nScaled\")\n",
    "print(\"Optimal C Value:\", optimal_c)\n",
    "print(\"Accuracy: \", max_acc)\n",
    "print(all_accuracies)\n"
   ]
  },
  {
   "cell_type": "code",
   "execution_count": 100,
   "metadata": {},
   "outputs": [
    {
     "name": "stdout",
     "output_type": "stream",
     "text": [
      "\n",
      "Scaled\n",
      "Optimal C Value: 0.8\n",
      "Accuracy:  0.7076861808044603\n",
      "[0.7025089605734767, 0.7041019514137794, 0.7076861808044603, 0.7052966945440063, 0.7045001991238551, 0.7064914376742334, 0.7068896853843091]\n"
     ]
    }
   ],
   "source": [
    "max_acc = 0\n",
    "optimal_c = 0\n",
    "all_accuracies = []\n",
    "\n",
    "for c in [0.6, 0.7, 0.8, 0.9, 1, 2, 3]:\n",
    "    svm = SVC(C = c, gamma = \"auto\")\n",
    "    svm.fit(scaled_train_data, train_labels)\n",
    "    accuracy_svm = np.mean(svm.predict(scaled_test_data) == test_labels)\n",
    "    all_accuracies.append(accuracy_svm)\n",
    "\n",
    "    #print(classification_report(test_labels,svm.predict(test_data), digits = 4))\n",
    "    if accuracy_svm > max_acc:\n",
    "        max_acc = accuracy_svm\n",
    "        optimal_c = c\n",
    "        \n",
    "print(\"\\nScaled\")\n",
    "print(\"Optimal C Value:\", optimal_c)\n",
    "print(\"Accuracy: \", max_acc)\n",
    "print(all_accuracies)"
   ]
  },
  {
   "cell_type": "markdown",
   "metadata": {},
   "source": [
    "### Best SVM so far"
   ]
  },
  {
   "cell_type": "code",
   "execution_count": 101,
   "metadata": {},
   "outputs": [
    {
     "name": "stdout",
     "output_type": "stream",
     "text": [
      "0.7076861808044603\n",
      "              precision    recall  f1-score   support\n",
      "\n",
      "           0     0.6974    0.5627    0.6228      1077\n",
      "           1     0.7132    0.8166    0.7614      1434\n",
      "\n",
      "    accuracy                         0.7077      2511\n",
      "   macro avg     0.7053    0.6896    0.6921      2511\n",
      "weighted avg     0.7064    0.7077    0.7019      2511\n",
      "\n"
     ]
    }
   ],
   "source": [
    "best_svm = SVC(C = 0.8, gamma = \"auto\")\n",
    "best_svm.fit(scaled_train_data, train_labels)\n",
    "accuracy_best_svm = np.mean(best_svm.predict(scaled_test_data) == test_labels)\n",
    "print(accuracy_best_svm)\n",
    "print(classification_report(test_labels,best_svm.predict(scaled_test_data), digits = 4))"
   ]
  },
  {
   "cell_type": "markdown",
   "metadata": {},
   "source": [
    "## Logistic Regression"
   ]
  },
  {
   "cell_type": "code",
   "execution_count": 102,
   "metadata": {},
   "outputs": [
    {
     "name": "stderr",
     "output_type": "stream",
     "text": [
      "/Users/henrybazakas/opt/anaconda3/lib/python3.7/site-packages/sklearn/linear_model/logistic.py:432: FutureWarning: Default solver will be changed to 'lbfgs' in 0.22. Specify a solver to silence this warning.\n",
      "  FutureWarning)\n"
     ]
    },
    {
     "name": "stdout",
     "output_type": "stream",
     "text": [
      "L1\n",
      "              precision    recall  f1-score   support\n",
      "\n",
      "           0     0.8000    0.3491    0.4861      1077\n",
      "           1     0.6565    0.9344    0.7712      1434\n",
      "\n",
      "    accuracy                         0.6834      2511\n",
      "   macro avg     0.7283    0.6418    0.6287      2511\n",
      "weighted avg     0.7181    0.6834    0.6489      2511\n",
      "\n",
      "\n",
      "L2\n",
      "              precision    recall  f1-score   support\n",
      "\n",
      "           0     0.7429    0.4345    0.5483      1077\n",
      "           1     0.6762    0.8870    0.7674      1434\n",
      "\n",
      "    accuracy                         0.6930      2511\n",
      "   macro avg     0.7095    0.6608    0.6579      2511\n",
      "weighted avg     0.7048    0.6930    0.6735      2511\n",
      "\n"
     ]
    },
    {
     "name": "stderr",
     "output_type": "stream",
     "text": [
      "/Users/henrybazakas/opt/anaconda3/lib/python3.7/site-packages/sklearn/linear_model/logistic.py:432: FutureWarning: Default solver will be changed to 'lbfgs' in 0.22. Specify a solver to silence this warning.\n",
      "  FutureWarning)\n"
     ]
    }
   ],
   "source": [
    "#worse\n",
    "'''log_reg = LogisticRegression()\n",
    "log_reg.fit(train_data, train_labels)\n",
    "accuracy_log_reg = np.mean(log_reg.predict(test_data) == test_labels)\n",
    "print(accuracy_log_reg)\n",
    "print(classification_report(test_labels,log_reg.predict(test_data), digits = 4))'''\n",
    "\n",
    "# L1 vs L2 \n",
    "\n",
    "log_reg = LogisticRegression(\"l1\")\n",
    "log_reg.fit(scaled_train_data, train_labels)\n",
    "accuracy_log_reg = np.mean(log_reg.predict(scaled_test_data) == test_labels)\n",
    "print(\"L1\")\n",
    "print(classification_report(test_labels,log_reg.predict(scaled_test_data), digits = 4))\n",
    "\n",
    "log_reg = LogisticRegression(\"l2\")\n",
    "log_reg.fit(scaled_train_data, train_labels)\n",
    "accuracy_log_reg = np.mean(log_reg.predict(scaled_test_data) == test_labels)\n",
    "print(\"\\nL2\")\n",
    "print(classification_report(test_labels,log_reg.predict(scaled_test_data), digits = 4))"
   ]
  },
  {
   "cell_type": "code",
   "execution_count": 103,
   "metadata": {},
   "outputs": [
    {
     "name": "stderr",
     "output_type": "stream",
     "text": [
      "/Users/henrybazakas/opt/anaconda3/lib/python3.7/site-packages/sklearn/linear_model/logistic.py:432: FutureWarning: Default solver will be changed to 'lbfgs' in 0.22. Specify a solver to silence this warning.\n",
      "  FutureWarning)\n",
      "/Users/henrybazakas/opt/anaconda3/lib/python3.7/site-packages/sklearn/linear_model/logistic.py:432: FutureWarning: Default solver will be changed to 'lbfgs' in 0.22. Specify a solver to silence this warning.\n",
      "  FutureWarning)\n",
      "/Users/henrybazakas/opt/anaconda3/lib/python3.7/site-packages/sklearn/linear_model/logistic.py:432: FutureWarning: Default solver will be changed to 'lbfgs' in 0.22. Specify a solver to silence this warning.\n",
      "  FutureWarning)\n",
      "/Users/henrybazakas/opt/anaconda3/lib/python3.7/site-packages/sklearn/linear_model/logistic.py:432: FutureWarning: Default solver will be changed to 'lbfgs' in 0.22. Specify a solver to silence this warning.\n",
      "  FutureWarning)\n"
     ]
    },
    {
     "name": "stdout",
     "output_type": "stream",
     "text": [
      "L2, C =  0.005\n",
      "              precision    recall  f1-score   support\n",
      "\n",
      "           0     0.6961    0.4763    0.5656      1077\n",
      "           1     0.6821    0.8438    0.7544      1434\n",
      "\n",
      "    accuracy                         0.6862      2511\n",
      "   macro avg     0.6891    0.6601    0.6600      2511\n",
      "weighted avg     0.6881    0.6862    0.6734      2511\n",
      "\n",
      "L2, C =  0.1\n",
      "              precision    recall  f1-score   support\n",
      "\n",
      "           0     0.6947    0.5682    0.6251      1077\n",
      "           1     0.7147    0.8124    0.7604      1434\n",
      "\n",
      "    accuracy                         0.7077      2511\n",
      "   macro avg     0.7047    0.6903    0.6928      2511\n",
      "weighted avg     0.7061    0.7077    0.7024      2511\n",
      "\n",
      "L2, C =  0.5\n",
      "              precision    recall  f1-score   support\n",
      "\n",
      "           0     0.7213    0.4903    0.5837      1077\n",
      "           1     0.6914    0.8577    0.7656      1434\n",
      "\n",
      "    accuracy                         0.7001      2511\n",
      "   macro avg     0.7064    0.6740    0.6747      2511\n",
      "weighted avg     0.7042    0.7001    0.6876      2511\n",
      "\n",
      "L2, C =  1\n",
      "              precision    recall  f1-score   support\n",
      "\n",
      "           0     0.7429    0.4345    0.5483      1077\n",
      "           1     0.6762    0.8870    0.7674      1434\n",
      "\n",
      "    accuracy                         0.6930      2511\n",
      "   macro avg     0.7095    0.6608    0.6579      2511\n",
      "weighted avg     0.7048    0.6930    0.6735      2511\n",
      "\n"
     ]
    }
   ],
   "source": [
    "for c in [0.005, 0.1, 0.5, 1]:\n",
    "    log_reg = LogisticRegression(\"l2\", C = c)\n",
    "    log_reg.fit(scaled_train_data, train_labels)\n",
    "    accuracy_log_reg = np.mean(log_reg.predict(scaled_test_data) == test_labels)\n",
    "    print(\"L2, C = \", c)\n",
    "    print(classification_report(test_labels,log_reg.predict(scaled_test_data), digits = 4))\n",
    "  "
   ]
  },
  {
   "cell_type": "markdown",
   "metadata": {},
   "source": [
    "### Best Logistic Regression so far"
   ]
  },
  {
   "cell_type": "code",
   "execution_count": 104,
   "metadata": {},
   "outputs": [
    {
     "name": "stderr",
     "output_type": "stream",
     "text": [
      "/Users/henrybazakas/opt/anaconda3/lib/python3.7/site-packages/sklearn/linear_model/logistic.py:432: FutureWarning: Default solver will be changed to 'lbfgs' in 0.22. Specify a solver to silence this warning.\n",
      "  FutureWarning)\n"
     ]
    },
    {
     "data": {
      "text/plain": [
       "0.7076861808044603"
      ]
     },
     "execution_count": 104,
     "metadata": {},
     "output_type": "execute_result"
    }
   ],
   "source": [
    "best_log_reg = LogisticRegression(\"l2\", C = 0.1)\n",
    "best_log_reg.fit(scaled_train_data, train_labels)\n",
    "accuracy_best_log_reg = np.mean(best_log_reg.predict(scaled_test_data) == test_labels)\n",
    "accuracy_best_log_reg"
   ]
  },
  {
   "cell_type": "markdown",
   "metadata": {},
   "source": [
    "## Ensemble Prediction"
   ]
  },
  {
   "cell_type": "code",
   "execution_count": 105,
   "metadata": {},
   "outputs": [
    {
     "data": {
      "text/plain": [
       "0.7084826762246117"
      ]
     },
     "execution_count": 105,
     "metadata": {},
     "output_type": "execute_result"
    }
   ],
   "source": [
    "sum_predictions = best_svm.predict(scaled_test_data) + best_log_reg.predict(scaled_test_data) + best_nb.predict(test_data)\n",
    "prediction_voted = sum_predictions > 1.5\n",
    "combined_accuracy = np.mean(prediction_voted == test_labels)\n",
    "combined_accuracy"
   ]
  },
  {
   "cell_type": "markdown",
   "metadata": {},
   "source": [
    "## PCA\n",
    "\n",
    "updated with optimal values from below"
   ]
  },
  {
   "cell_type": "code",
   "execution_count": 137,
   "metadata": {},
   "outputs": [
    {
     "name": "stderr",
     "output_type": "stream",
     "text": [
      "/Users/henrybazakas/opt/anaconda3/lib/python3.7/site-packages/sklearn/linear_model/logistic.py:432: FutureWarning: Default solver will be changed to 'lbfgs' in 0.22. Specify a solver to silence this warning.\n",
      "  FutureWarning)\n"
     ]
    },
    {
     "name": "stdout",
     "output_type": "stream",
     "text": [
      "Logisitic Regression. L2, C =  0.1\n",
      "0.6969334926324173\n",
      "              precision    recall  f1-score   support\n",
      "\n",
      "           0     0.6653    0.5905    0.6257      1077\n",
      "           1     0.7164    0.7768    0.7454      1434\n",
      "\n",
      "    accuracy                         0.6969      2511\n",
      "   macro avg     0.6908    0.6837    0.6855      2511\n",
      "weighted avg     0.6945    0.6969    0.6940      2511\n",
      "\n",
      "SVM. c = 0.8\n",
      "0.688968538430904\n",
      "              precision    recall  f1-score   support\n",
      "\n",
      "           0     0.6800    0.5190    0.5887      1077\n",
      "           1     0.6933    0.8166    0.7499      1434\n",
      "\n",
      "    accuracy                         0.6890      2511\n",
      "   macro avg     0.6867    0.6678    0.6693      2511\n",
      "weighted avg     0.6876    0.6890    0.6808      2511\n",
      "\n",
      "Bernoulli NB. alpha = 50\n",
      "0.6814018319394664\n",
      "              precision    recall  f1-score   support\n",
      "\n",
      "           0     0.6325    0.6137    0.6230      1077\n",
      "           1     0.7162    0.7322    0.7241      1434\n",
      "\n",
      "    accuracy                         0.6814      2511\n",
      "   macro avg     0.6744    0.6730    0.6736      2511\n",
      "weighted avg     0.6803    0.6814    0.6808      2511\n",
      "\n",
      "PCA ensemble: 0.6965352449223416\n"
     ]
    }
   ],
   "source": [
    "pca = PCA(n_components=25, whiten=True)\n",
    "pca_train = pca.fit_transform(scaled_train_data)\n",
    "pca_test = pca.transform(scaled_test_data)\n",
    "\n",
    "log_reg_pca = LogisticRegression(\"l2\", C = 0.1)\n",
    "log_reg_pca.fit(pca_train, train_labels)\n",
    "accuracy_log_reg_pca = np.mean(log_reg_pca.predict(pca_test) == test_labels)\n",
    "print(\"Logisitic Regression. L2, C = \", 0.1)\n",
    "print(accuracy_log_reg_pca)\n",
    "print(classification_report(test_labels,log_reg_pca.predict(pca_test), digits = 4))\n",
    "\n",
    "svm_pca = SVC(C = 0.6, gamma = \"auto\")\n",
    "svm_pca.fit(pca_train, train_labels)\n",
    "accuracy_svm_pca = np.mean(svm_pca.predict(pca_test) == test_labels)\n",
    "print(\"SVM. c = 0.8\")\n",
    "print(accuracy_svm_pca)\n",
    "print(classification_report(test_labels,svm_pca.predict(pca_test), digits = 4))\n",
    "\n",
    "nb_pca = BernoulliNB(alpha = 50, fit_prior = True)\n",
    "nb_pca.fit(pca_train, train_labels)\n",
    "accuracy_nb_pca = np.mean(nb_pca.predict(pca_test) == test_labels)\n",
    "print(\"Bernoulli NB. alpha = 50\")\n",
    "print(accuracy_nb_pca)\n",
    "print(classification_report(test_labels,nb_pca.predict(pca_test), digits = 4))\n",
    "\n",
    "sum_predictions_pca = svm_pca.predict(pca_test) + log_reg_pca.predict(pca_test) + nb_pca.predict(pca_test)\n",
    "prediction_voted_pca = sum_predictions_pca > 1.5\n",
    "combined_accuracy_pca = np.mean(prediction_voted_pca == test_labels)\n",
    "print(\"PCA ensemble:\",combined_accuracy_pca)"
   ]
  },
  {
   "cell_type": "markdown",
   "metadata": {},
   "source": [
    "### PCA Bernoulli NB"
   ]
  },
  {
   "cell_type": "code",
   "execution_count": 125,
   "metadata": {},
   "outputs": [
    {
     "name": "stdout",
     "output_type": "stream",
     "text": [
      "0.01 0.6802070888092393\n",
      "0.1 0.6802070888092393\n",
      "1 0.680605336519315\n",
      "5 0.680605336519315\n",
      "10 0.6802070888092393\n",
      "50 0.680605336519315\n",
      "100 0.680605336519315\n",
      "1000 0.678215850258861\n"
     ]
    }
   ],
   "source": [
    "for a in [0.01, 0.1, 1, 5, 10, 50, 100, 1000]:\n",
    "    nb = BernoulliNB(alpha = a)\n",
    "    nb.fit(pca_train, train_labels)\n",
    "    accuracy_nb = np.mean(nb.predict(pca_test) == test_labels)\n",
    "    print(a, accuracy_nb)"
   ]
  },
  {
   "cell_type": "markdown",
   "metadata": {},
   "source": [
    "### PCA Logistic Regression"
   ]
  },
  {
   "cell_type": "code",
   "execution_count": 126,
   "metadata": {},
   "outputs": [
    {
     "name": "stdout",
     "output_type": "stream",
     "text": [
      "L1\n",
      "              precision    recall  f1-score   support\n",
      "\n",
      "           0     0.6636    0.5989    0.6296      1077\n",
      "           1     0.7193    0.7720    0.7447      1434\n",
      "\n",
      "    accuracy                         0.6977      2511\n",
      "   macro avg     0.6914    0.6854    0.6871      2511\n",
      "weighted avg     0.6954    0.6977    0.6953      2511\n",
      "\n",
      "\n",
      "L2\n",
      "              precision    recall  f1-score   support\n",
      "\n",
      "           0     0.6643    0.6007    0.6309      1077\n",
      "           1     0.7202    0.7720    0.7452      1434\n",
      "\n",
      "    accuracy                         0.6985      2511\n",
      "   macro avg     0.6923    0.6864    0.6881      2511\n",
      "weighted avg     0.6962    0.6985    0.6962      2511\n",
      "\n"
     ]
    },
    {
     "name": "stderr",
     "output_type": "stream",
     "text": [
      "/Users/henrybazakas/opt/anaconda3/lib/python3.7/site-packages/sklearn/linear_model/logistic.py:432: FutureWarning: Default solver will be changed to 'lbfgs' in 0.22. Specify a solver to silence this warning.\n",
      "  FutureWarning)\n",
      "/Users/henrybazakas/opt/anaconda3/lib/python3.7/site-packages/sklearn/linear_model/logistic.py:432: FutureWarning: Default solver will be changed to 'lbfgs' in 0.22. Specify a solver to silence this warning.\n",
      "  FutureWarning)\n"
     ]
    }
   ],
   "source": [
    "log_reg = LogisticRegression(\"l1\")\n",
    "log_reg.fit(pca_train, train_labels)\n",
    "accuracy_log_reg = np.mean(log_reg.predict(pca_test) == test_labels)\n",
    "print(\"L1\")\n",
    "print(classification_report(test_labels,log_reg.predict(pca_test), digits = 4))\n",
    "\n",
    "log_reg = LogisticRegression(\"l2\")\n",
    "log_reg.fit(pca_train, train_labels)\n",
    "accuracy_log_reg = np.mean(log_reg.predict(pca_test) == test_labels)\n",
    "print(\"\\nL2\")\n",
    "print(classification_report(test_labels,log_reg.predict(pca_test), digits = 4))\n",
    "\n",
    "# very similar. L2 appears slightly better I guess"
   ]
  },
  {
   "cell_type": "code",
   "execution_count": 132,
   "metadata": {},
   "outputs": [
    {
     "name": "stdout",
     "output_type": "stream",
     "text": [
      "L2, C =  0.005 0.678215850258861\n",
      "L2, C =  0.1 0.7001194743130227\n",
      "L2, C =  0.5 0.6981282357626444\n",
      "L2, C =  1 0.6977299880525687\n",
      "L2, C =  10 0.6981282357626444\n",
      "L2, C =  1000 0.6985264834727201\n"
     ]
    },
    {
     "name": "stderr",
     "output_type": "stream",
     "text": [
      "/Users/henrybazakas/opt/anaconda3/lib/python3.7/site-packages/sklearn/linear_model/logistic.py:432: FutureWarning: Default solver will be changed to 'lbfgs' in 0.22. Specify a solver to silence this warning.\n",
      "  FutureWarning)\n",
      "/Users/henrybazakas/opt/anaconda3/lib/python3.7/site-packages/sklearn/linear_model/logistic.py:432: FutureWarning: Default solver will be changed to 'lbfgs' in 0.22. Specify a solver to silence this warning.\n",
      "  FutureWarning)\n",
      "/Users/henrybazakas/opt/anaconda3/lib/python3.7/site-packages/sklearn/linear_model/logistic.py:432: FutureWarning: Default solver will be changed to 'lbfgs' in 0.22. Specify a solver to silence this warning.\n",
      "  FutureWarning)\n",
      "/Users/henrybazakas/opt/anaconda3/lib/python3.7/site-packages/sklearn/linear_model/logistic.py:432: FutureWarning: Default solver will be changed to 'lbfgs' in 0.22. Specify a solver to silence this warning.\n",
      "  FutureWarning)\n",
      "/Users/henrybazakas/opt/anaconda3/lib/python3.7/site-packages/sklearn/linear_model/logistic.py:432: FutureWarning: Default solver will be changed to 'lbfgs' in 0.22. Specify a solver to silence this warning.\n",
      "  FutureWarning)\n",
      "/Users/henrybazakas/opt/anaconda3/lib/python3.7/site-packages/sklearn/linear_model/logistic.py:432: FutureWarning: Default solver will be changed to 'lbfgs' in 0.22. Specify a solver to silence this warning.\n",
      "  FutureWarning)\n"
     ]
    }
   ],
   "source": [
    "for c in [0.005, 0.1, 0.5, 1, 10, 1000]:\n",
    "    log_reg = LogisticRegression(\"l1\", C = c)\n",
    "    log_reg.fit(pca_train, train_labels)\n",
    "    accuracy_log_reg = np.mean(log_reg.predict(pca_test) == test_labels)\n",
    "    print(\"L2, C = \", c, accuracy_log_reg)\n",
    "    #print(classification_report(test_labels,log_reg.predict(pca_test), digits = 4))\n",
    "    \n",
    "#0.1 still seems to be the best"
   ]
  },
  {
   "cell_type": "markdown",
   "metadata": {},
   "source": [
    "### SVM"
   ]
  },
  {
   "cell_type": "code",
   "execution_count": 134,
   "metadata": {},
   "outputs": [
    {
     "name": "stdout",
     "output_type": "stream",
     "text": [
      "\n",
      "Scaled\n",
      "Optimal C Value: 0.1\n",
      "Accuracy:  0.6833930704898447\n",
      "[0.5710872162485066, 0.5710872162485066, 0.6833930704898447, 0.675826363998407, 0.6296296296296297, 0.6232576662684189]\n"
     ]
    }
   ],
   "source": [
    "max_acc = 0\n",
    "optimal_c = 0\n",
    "all_accuracies = []\n",
    "\n",
    "for c in [0.001, 0.01, 0.1, 1, 10, 100]:\n",
    "    svm = SVC(C = c, gamma = \"auto\")\n",
    "    svm.fit(pca_train, train_labels)\n",
    "    accuracy_svm = np.mean(svm.predict(pca_test) == test_labels)\n",
    "    all_accuracies.append(accuracy_svm)\n",
    "\n",
    "    #print(classification_report(test_labels,svm.predict(test_data), digits = 4))\n",
    "    if accuracy_svm > max_acc:\n",
    "        max_acc = accuracy_svm\n",
    "        optimal_c = c\n",
    "        \n",
    "print(\"\\nScaled\")\n",
    "print(\"Optimal C Value:\", optimal_c)\n",
    "print(\"Accuracy: \", max_acc)\n",
    "print(all_accuracies)"
   ]
  },
  {
   "cell_type": "code",
   "execution_count": 136,
   "metadata": {},
   "outputs": [
    {
     "name": "stdout",
     "output_type": "stream",
     "text": [
      "\n",
      "Scaled\n",
      "Optimal C Value: 0.6\n",
      "Accuracy:  0.6885702907208283\n",
      "[0.6885702907208283, 0.6861808044603743, 0.681800079649542, 0.6810035842293907, 0.675826363998407, 0.672242134607726, 0.665073675826364]\n"
     ]
    }
   ],
   "source": [
    "max_acc = 0\n",
    "optimal_c = 0\n",
    "all_accuracies = []\n",
    "\n",
    "for c in [0.6, 0.7, 0.8, 0.9, 1, 2, 3]:\n",
    "    svm = SVC(C = c, gamma = \"auto\")\n",
    "    svm.fit(pca_train, train_labels)\n",
    "    accuracy_svm = np.mean(svm.predict(pca_test) == test_labels)\n",
    "    all_accuracies.append(accuracy_svm)\n",
    "\n",
    "    #print(classification_report(test_labels,svm.predict(test_data), digits = 4))\n",
    "    if accuracy_svm > max_acc:\n",
    "        max_acc = accuracy_svm\n",
    "        optimal_c = c\n",
    "        \n",
    "print(\"\\nScaled\")\n",
    "print(\"Optimal C Value:\", optimal_c)\n",
    "print(\"Accuracy: \", max_acc)\n",
    "print(all_accuracies)\n",
    "\n",
    "# 0.6 is now the best c value. marginal change\n"
   ]
  },
  {
   "cell_type": "markdown",
   "metadata": {},
   "source": [
    "### OVERALL"
   ]
  },
  {
   "cell_type": "code",
   "execution_count": 144,
   "metadata": {},
   "outputs": [
    {
     "name": "stdout",
     "output_type": "stream",
     "text": [
      "Logistic Regression 0.7077\n",
      "Logistic Regression PCA 0.6969\n",
      "SVM 0.7077\n",
      "SVM PCA 0.689\n",
      "Bernoulli Naive Bayes 0.679\n",
      "Bernoulli Naive Bayes PCA 0.6814\n"
     ]
    }
   ],
   "source": [
    "accuracies = [accuracy_best_log_reg,\n",
    "accuracy_log_reg_pca,\n",
    "accuracy_best_svm,\n",
    "accuracy_svm_pca,\n",
    "accuracy_best_nb,\n",
    "accuracy_nb_pca]\n",
    "\n",
    "names = [\"Logistic Regression\", \"Logistic Regression PCA\", \"SVM\", \"SVM PCA\", \"Bernoulli Naive Bayes\", \"Bernoulli Naive Bayes PCA\"]\n",
    "\n",
    "for i in range(len(accuracies)):\n",
    "    print(names[i], round(accuracies[i], 4))"
   ]
  },
  {
   "cell_type": "code",
   "execution_count": 150,
   "metadata": {},
   "outputs": [
    {
     "data": {
      "text/plain": [
       "Text(0.5, 1.0, 'Accuracies for various models')"
      ]
     },
     "execution_count": 150,
     "metadata": {},
     "output_type": "execute_result"
    },
    {
     "data": {
      "image/png": "[encoded data removed]",
      "text/plain": [
       "<Figure size 432x288 with 1 Axes>"
      ]
     },
     "metadata": {
      "needs_background": "light"
     },
     "output_type": "display_data"
    }
   ],
   "source": [
    "colors = [\"red\",\"red\",\"green\",\"green\",\"blue\",\"blue\"]\n",
    "\n",
    "plt.barh(names, accuracies, color = colors)\n",
    "plt.title(\"Accuracies for various models\")"
   ]
  },
  {
   "cell_type": "markdown",
   "metadata": {},
   "source": [
    "## Best Models\n",
    "\n",
    "These are the best models I was able to generate, whose accuracies are displayed in the table above. For all three there is a version trained on PCA data and a version trained on normal data. PCA performed marginally better for Bernoulli Naive Bayes and worse for SVM and Logistic Regression."
   ]
  },
  {
   "cell_type": "code",
   "execution_count": 152,
   "metadata": {},
   "outputs": [
    {
     "name": "stderr",
     "output_type": "stream",
     "text": [
      "/Users/henrybazakas/opt/anaconda3/lib/python3.7/site-packages/sklearn/linear_model/logistic.py:432: FutureWarning: Default solver will be changed to 'lbfgs' in 0.22. Specify a solver to silence this warning.\n",
      "  FutureWarning)\n",
      "/Users/henrybazakas/opt/anaconda3/lib/python3.7/site-packages/sklearn/linear_model/logistic.py:432: FutureWarning: Default solver will be changed to 'lbfgs' in 0.22. Specify a solver to silence this warning.\n",
      "  FutureWarning)\n"
     ]
    },
    {
     "name": "stdout",
     "output_type": "stream",
     "text": [
      "Logisitic Regression. L2, C =  0.1\n",
      "0.7077\n",
      "Logisitic Regression with PCA. L2, C =  0.1\n",
      "0.6969\n",
      "SVM. c = 0.8\n",
      "0.7077\n",
      "SVM with PCA. c = 0.6\n",
      "0.689\n",
      "Bernoulli NB. alpha = 50\n",
      "0.6691\n",
      "Bernoulli NB with PCA. alpha = 50\n",
      "0.6814\n"
     ]
    }
   ],
   "source": [
    "best_log_reg = LogisticRegression(\"l2\", C = 0.1)\n",
    "best_log_reg.fit(scaled_train_data, train_labels)\n",
    "accuracy_best_log_reg = np.mean(best_log_reg.predict(scaled_test_data) == test_labels)\n",
    "print(\"Logisitic Regression. L2, C = \", 0.1)\n",
    "print(round(accuracy_best_log_reg,4))\n",
    "\n",
    "log_reg_pca = LogisticRegression(\"l2\", C = 0.1)\n",
    "log_reg_pca.fit(pca_train, train_labels)\n",
    "accuracy_log_reg_pca = np.mean(log_reg_pca.predict(pca_test) == test_labels)\n",
    "print(\"Logisitic Regression with PCA. L2, C = \", 0.1)\n",
    "print(round(accuracy_log_reg_pca, 4))\n",
    "#print(classification_report(test_labels,log_reg_pca.predict(pca_test), digits = 4))\n",
    "\n",
    "best_svm = SVC(C = 0.8, gamma = \"auto\")\n",
    "best_svm.fit(scaled_train_data, train_labels)\n",
    "accuracy_best_svm = np.mean(best_svm.predict(scaled_test_data) == test_labels)\n",
    "print(\"SVM. c = 0.8\")\n",
    "print(round(accuracy_best_svm, 4))\n",
    "#print(classification_report(test_labels,best_svm.predict(scaled_test_data), digits = 4))\n",
    "\n",
    "svm_pca = SVC(C = 0.6, gamma = \"auto\")\n",
    "svm_pca.fit(pca_train, train_labels)\n",
    "accuracy_svm_pca = np.mean(svm_pca.predict(pca_test) == test_labels)\n",
    "print(\"SVM with PCA. c = 0.6\")\n",
    "print(round(accuracy_svm_pca, 4))\n",
    "#print(classification_report(test_labels,svm_pca.predict(pca_test), digits = 4))\n",
    "\n",
    "best_nb = BernoulliNB(alpha = 50, fit_prior = True)\n",
    "best_nb.fit(train_data, train_labels)\n",
    "accuracy_best_nb = np.mean(best_nb.predict(test_data) == test_labels)\n",
    "print(\"Bernoulli NB. alpha = 50\")\n",
    "print(round(accuracy_best_nb, 4))\n",
    "\n",
    "nb_pca = BernoulliNB(alpha = 50, fit_prior = True)\n",
    "nb_pca.fit(pca_train, train_labels)\n",
    "accuracy_nb_pca = np.mean(nb_pca.predict(pca_test) == test_labels)\n",
    "print(\"Bernoulli NB with PCA. alpha = 50\")\n",
    "print(round(accuracy_nb_pca, 4))\n",
    "#print(classification_report(test_labels,nb_pca.predict(pca_test), digits = 4))"
   ]
  },
  {
   "cell_type": "code",
   "execution_count": null,
   "metadata": {},
   "outputs": [],
   "source": []
  }
 ],
 "metadata": {
  "kernelspec": {
   "display_name": "Python 3",
   "language": "python",
   "name": "python3"
  },
  "language_info": {
   "codemirror_mode": {
    "name": "ipython",
    "version": 3
   },
   "file_extension": ".py",
   "mimetype": "text/x-python",
   "name": "python",
   "nbconvert_exporter": "python",
   "pygments_lexer": "ipython3",
   "version": "3.7.4"
  }
 },
 "nbformat": 4,
 "nbformat_minor": 2
}
